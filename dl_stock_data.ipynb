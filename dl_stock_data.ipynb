{
 "cells": [
  {
   "cell_type": "code",
   "execution_count": 1,
   "metadata": {},
   "outputs": [],
   "source": [
    "#import modules\n",
    "from urllib.request import urlopen\n",
    "from bs4 import BeautifulSoup as bs\n",
    "import re\n",
    "import time\n",
    "import datetime\n",
    "import pandas as pd"
   ]
  },
  {
   "cell_type": "code",
   "execution_count": 2,
   "metadata": {},
   "outputs": [],
   "source": [
    "#initialise the time-frame\n",
    "start = \"01/01/2016 00:00:00\"\n",
    "end = \"01/03/2021 00:00:00\"\n",
    "\n",
    "s = str(int(time.mktime(datetime.datetime.strptime(start, \"%d/%m/%Y %H:%M:%S\").timetuple())))\n",
    "e = str(int(time.mktime(datetime.datetime.strptime(end, \"%d/%m/%Y %H:%M:%S\").timetuple())))"
   ]
  },
  {
   "cell_type": "code",
   "execution_count": 3,
   "metadata": {},
   "outputs": [],
   "source": [
    "#list of stocks to read\n",
    "stock_list = pd.read_csv('../input/stock_list.csv')"
   ]
  },
  {
   "cell_type": "code",
   "execution_count": 4,
   "metadata": {},
   "outputs": [
    {
     "name": "stdout",
     "output_type": "stream",
     "text": [
      "https://in.finance.yahoo.com/quote/ASHOKLEY.BO/history?period1=1451586600&period2=1614537000&interval=1mo&filter=history&frequency=1mo&includeAdjustedClose=true\n",
      "https://in.finance.yahoo.com/quote/BAJAJ-AUTO.NS/history?period1=1451586600&period2=1614537000&interval=1mo&filter=history&frequency=1mo&includeAdjustedClose=true\n",
      "https://in.finance.yahoo.com/quote/BEL.BO/history?period1=1451586600&period2=1614537000&interval=1mo&filter=history&frequency=1mo&includeAdjustedClose=true\n",
      "https://in.finance.yahoo.com/quote/BHEL.BO/history?period1=1451586600&period2=1614537000&interval=1mo&filter=history&frequency=1mo&includeAdjustedClose=true\n",
      "https://in.finance.yahoo.com/quote/BPCL.NS/history?period1=1451586600&period2=1614537000&interval=1mo&filter=history&frequency=1mo&includeAdjustedClose=true\n",
      "https://in.finance.yahoo.com/quote/CASTROLIND.NS/history?period1=1451586600&period2=1614537000&interval=1mo&filter=history&frequency=1mo&includeAdjustedClose=true\n",
      "https://in.finance.yahoo.com/quote/CESC.NS/history?period1=1451586600&period2=1614537000&interval=1mo&filter=history&frequency=1mo&includeAdjustedClose=true\n",
      "https://in.finance.yahoo.com/quote/COLPAL.NS/history?period1=1451586600&period2=1614537000&interval=1mo&filter=history&frequency=1mo&includeAdjustedClose=true\n",
      "https://in.finance.yahoo.com/quote/CUMMINSIND.NS/history?period1=1451586600&period2=1614537000&interval=1mo&filter=history&frequency=1mo&includeAdjustedClose=true\n",
      "https://in.finance.yahoo.com/quote/CYIENT.NS/history?period1=1451586600&period2=1614537000&interval=1mo&filter=history&frequency=1mo&includeAdjustedClose=true\n",
      "https://in.finance.yahoo.com/quote/EMAMILTD.NS/history?period1=1451586600&period2=1614537000&interval=1mo&filter=history&frequency=1mo&includeAdjustedClose=true\n",
      "https://in.finance.yahoo.com/quote/ENGINERSIN.NS/history?period1=1451586600&period2=1614537000&interval=1mo&filter=history&frequency=1mo&includeAdjustedClose=true\n",
      "https://in.finance.yahoo.com/quote/GAIL.NS/history?period1=1451586600&period2=1614537000&interval=1mo&filter=history&frequency=1mo&includeAdjustedClose=true\n",
      "https://in.finance.yahoo.com/quote/HEROMOTOCO.NS/history?period1=1451586600&period2=1614537000&interval=1mo&filter=history&frequency=1mo&includeAdjustedClose=true\n",
      "https://in.finance.yahoo.com/quote/HINDPETRO.NS/history?period1=1451586600&period2=1614537000&interval=1mo&filter=history&frequency=1mo&includeAdjustedClose=true\n",
      "https://in.finance.yahoo.com/quote/HINDUNILVR.NS/history?period1=1451586600&period2=1614537000&interval=1mo&filter=history&frequency=1mo&includeAdjustedClose=true\n",
      "https://in.finance.yahoo.com/quote/IOC.NS/history?period1=1451586600&period2=1614537000&interval=1mo&filter=history&frequency=1mo&includeAdjustedClose=true\n",
      "https://in.finance.yahoo.com/quote/INFY.NS/history?period1=1451586600&period2=1614537000&interval=1mo&filter=history&frequency=1mo&includeAdjustedClose=true\n",
      "https://in.finance.yahoo.com/quote/ITC.NS/history?period1=1451586600&period2=1614537000&interval=1mo&filter=history&frequency=1mo&includeAdjustedClose=true\n",
      "https://in.finance.yahoo.com/quote/MGL.NS/history?period1=1451586600&period2=1614537000&interval=1mo&filter=history&frequency=1mo&includeAdjustedClose=true\n",
      "https://in.finance.yahoo.com/quote/MINDTREE.NS/history?period1=1451586600&period2=1614537000&interval=1mo&filter=history&frequency=1mo&includeAdjustedClose=true\n",
      "https://in.finance.yahoo.com/quote/MPHASIS.NS/history?period1=1451586600&period2=1614537000&interval=1mo&filter=history&frequency=1mo&includeAdjustedClose=true\n",
      "https://in.finance.yahoo.com/quote/NESTLEIND.NS/history?period1=1451586600&period2=1614537000&interval=1mo&filter=history&frequency=1mo&includeAdjustedClose=true\n",
      "https://in.finance.yahoo.com/quote/NHPC.NS/history?period1=1451586600&period2=1614537000&interval=1mo&filter=history&frequency=1mo&includeAdjustedClose=true\n",
      "https://in.finance.yahoo.com/quote/NTPC.NS/history?period1=1451586600&period2=1614537000&interval=1mo&filter=history&frequency=1mo&includeAdjustedClose=true\n",
      "https://in.finance.yahoo.com/quote/ONGC.NS/history?period1=1451586600&period2=1614537000&interval=1mo&filter=history&frequency=1mo&includeAdjustedClose=true\n",
      "https://in.finance.yahoo.com/quote/OIL.NS/history?period1=1451586600&period2=1614537000&interval=1mo&filter=history&frequency=1mo&includeAdjustedClose=true\n",
      "https://in.finance.yahoo.com/quote/PETRONET.NS/history?period1=1451586600&period2=1614537000&interval=1mo&filter=history&frequency=1mo&includeAdjustedClose=true\n",
      "https://in.finance.yahoo.com/quote/POWERGRID.NS/history?period1=1451586600&period2=1614537000&interval=1mo&filter=history&frequency=1mo&includeAdjustedClose=true\n",
      "https://in.finance.yahoo.com/quote/RITES.NS/history?period1=1451586600&period2=1614537000&interval=1mo&filter=history&frequency=1mo&includeAdjustedClose=true\n",
      "https://in.finance.yahoo.com/quote/STAR.NS/history?period1=1451586600&period2=1614537000&interval=1mo&filter=history&frequency=1mo&includeAdjustedClose=true\n",
      "https://in.finance.yahoo.com/quote/SUNTV.NS/history?period1=1451586600&period2=1614537000&interval=1mo&filter=history&frequency=1mo&includeAdjustedClose=true\n",
      "https://in.finance.yahoo.com/quote/TCS.NS/history?period1=1451586600&period2=1614537000&interval=1mo&filter=history&frequency=1mo&includeAdjustedClose=true\n",
      "https://in.finance.yahoo.com/quote/TATAPOWER.NS/history?period1=1451586600&period2=1614537000&interval=1mo&filter=history&frequency=1mo&includeAdjustedClose=true\n",
      "https://in.finance.yahoo.com/quote/TECHM.NS/history?period1=1451586600&period2=1614537000&interval=1mo&filter=history&frequency=1mo&includeAdjustedClose=true\n",
      "https://in.finance.yahoo.com/quote/TORNTPOWER.NS/history?period1=1451586600&period2=1614537000&interval=1mo&filter=history&frequency=1mo&includeAdjustedClose=true\n",
      "https://in.finance.yahoo.com/quote/SBIN.NS/history?period1=1451586600&period2=1614537000&interval=1mo&filter=history&frequency=1mo&includeAdjustedClose=true\n",
      "https://in.finance.yahoo.com/quote/SBIGETS.BO/history?period1=1451586600&period2=1614537000&interval=1mo&filter=history&frequency=1mo&includeAdjustedClose=true\n"
     ]
    }
   ],
   "source": [
    "#scrap the website and save into a different csv files\n",
    "\n",
    "for i in range(len(stock_list)):\n",
    "    stock_name = stock_list.stock_name[i]\n",
    "    \n",
    "    #open the webpage\n",
    "    url = 'https://in.finance.yahoo.com/quote/'+stock_name+'/history?period1='+s+'&period2='+e+'&interval=1mo&filter=history&frequency=1mo&includeAdjustedClose=true'\n",
    "    print(url)\n",
    "    html = urlopen(url)\n",
    "    \n",
    "    #read the html code and row items\n",
    "    soup = bs(html, features=\"html.parser\")\n",
    "    all_links = soup.find_all('tr')\n",
    "    \n",
    "    #read the cell elements, strip unrequired items and write to a file\n",
    "    list_rows = []\n",
    "\n",
    "    for j in all_links:\n",
    "        row = j.findAll('td')\n",
    "        c1 = re.compile('<.*?>')\n",
    "        clean = (re.sub(c1, '',str(row)))\n",
    "        list_rows.append(clean)\n",
    "        \n",
    "    df = pd.DataFrame(list_rows)\n",
    "    df = df[0].str.split(pat=\", \", expand=True)\n",
    "    df[0] = df[0].str.strip('[')\n",
    "    df[6] = df[6].str.strip(']')\n",
    "    df.dropna(inplace = True)\n",
    "    df.columns = ['Date', 'Open', 'High', 'Low', 'Close', 'Adj Close', 'Volume']\n",
    "\n",
    "    out_path = '../input/'+stock_name+'.csv'\n",
    "        \n",
    "    df.to_csv(out_path, index = False)"
   ]
  },
  {
   "cell_type": "code",
   "execution_count": null,
   "metadata": {},
   "outputs": [],
   "source": []
  }
 ],
 "metadata": {
  "kernelspec": {
   "display_name": "Python 3",
   "language": "python",
   "name": "python3"
  },
  "language_info": {
   "codemirror_mode": {
    "name": "ipython",
    "version": 3
   },
   "file_extension": ".py",
   "mimetype": "text/x-python",
   "name": "python",
   "nbconvert_exporter": "python",
   "pygments_lexer": "ipython3",
   "version": "3.8.3"
  }
 },
 "nbformat": 4,
 "nbformat_minor": 4
}
