{
 "cells": [
  {
   "cell_type": "code",
   "execution_count": 44,
   "metadata": {},
   "outputs": [
    {
     "name": "stdout",
     "output_type": "stream",
     "text": [
      "ASHOKLEY.BO\n",
      "BAJAJ-AUTO.NS\n",
      "BEL.BO\n",
      "BHEL.BO\n",
      "BPCL.NS\n",
      "CASTROLIND.NS\n",
      "CESC.NS\n",
      "COLPAL.NS\n",
      "CUMMINSIND.NS\n",
      "CYIENT.NS\n",
      "EMAMILTD.NS\n",
      "ENGINERSIN.NS\n",
      "GAIL.NS\n",
      "HEROMOTOCO.NS\n",
      "HINDPETRO.NS\n",
      "HINDUNILVR.NS\n",
      "IOC.NS\n",
      "INFY.NS\n",
      "ITC.NS\n",
      "MGL.NS\n",
      "MINDTREE.NS\n",
      "MPHASIS.NS\n",
      "NESTLEIND.NS\n",
      "NHPC.NS\n",
      "NTPC.NS\n",
      "ONGC.NS\n",
      "OIL.NS\n",
      "PETRONET.NS\n",
      "POWERGRID.NS\n",
      "RITES.NS\n",
      "STAR.NS\n",
      "SUNTV.NS\n",
      "TCS.NS\n",
      "TATAPOWER.NS\n",
      "TECHM.NS\n",
      "TORNTPOWER.NS\n",
      "SBIN.NS\n",
      "SBIGETS.BO\n"
     ]
    }
   ],
   "source": [
    "import pandas as pd\n",
    "import numpy as np\n",
    "import math\n",
    "from bokeh.io import output_file, show\n",
    "from bokeh.models import ColumnDataSource, CrosshairTool, HoverTool, NumeralTickFormatter\n",
    "from bokeh.plotting import figure\n",
    "from bokeh.layouts import column, row\n",
    "from bokeh.transform import cumsum\n",
    "import matplotlib.pyplot as plt\n",
    "import seaborn as sns\n",
    "from scipy.stats import norm\n",
    "\n",
    "stock_list = pd.read_csv('../input/stock_list.csv')\n",
    "\n",
    "returns = pd.DataFrame()\n",
    "last_price = np.zeros((len(stock_list)))\n",
    "\n",
    "cleancomma = lambda items: float(str(items).replace(',', ''))\n",
    "to_float = lambda items: float(items)\n",
    "\n",
    "for i in range(len(stock_list)):\n",
    "    stock_name = stock_list.stock_name[i]\n",
    "    print(stock_name)\n",
    "    path = '../input/'+stock_name+'.csv'\n",
    "    stock = pd.read_csv(path)\n",
    "    stock['f_adj_price'] = stock['Adj Close'].map(cleancomma).map(to_float)\n",
    "    returns[stock_name] = (stock['f_adj_price']/stock['f_adj_price'].shift(12))-1\n",
    "    last_price[i] = stock['f_adj_price'].iloc[-1]"
   ]
  },
  {
   "cell_type": "code",
   "execution_count": 45,
   "metadata": {},
   "outputs": [],
   "source": [
    "cov_mat = returns.dropna().cov()"
   ]
  },
  {
   "cell_type": "code",
   "execution_count": null,
   "metadata": {},
   "outputs": [],
   "source": [
    "num_port = 30000\n",
    "rf = 0.04\n",
    "all_wts = np.zeros((num_port, len(returns.columns)))\n",
    "port_returns = np.zeros((num_port))\n",
    "port_risk = np.ones((num_port))\n",
    "sharpe_ratio = np.zeros((num_port))\n",
    "\n",
    "# SIMULATE x PORTFOLIOS\n",
    "\n",
    "np.random.seed(42)\n",
    "\n",
    "for i in range(num_port):\n",
    "\n",
    "    # Portfolio weights\n",
    "    wts = np.random.uniform(size=len(returns.columns))\n",
    "    wts = wts / np.sum(wts)\n",
    "    all_wts[i, :] = wts\n",
    "\n",
    "    # Portfolio Return\n",
    "    port_ret = np.sum(returns.mean() * wts)\n",
    "    port_returns[i] = port_ret\n",
    "\n",
    "    # Portfolio Risk\n",
    "    port_sd = np.sqrt(np.dot(wts.T, np.dot(cov_mat, wts)))\n",
    "    port_risk[i] = port_sd\n",
    "\n",
    "    # Portfolio Sharpe Ratio, assuming 0% Risk Free Rate\n",
    "    sr = (port_ret - rf) / port_sd\n",
    "    sharpe_ratio[i] = sr\n",
    "\n",
    "    # Save portfolios of interest (min var, max return and max SR)\n",
    "    if sr >= max(sharpe_ratio[0:-1]):\n",
    "        max_sr_ret = port_ret\n",
    "        max_sr_risk = port_sd\n",
    "        max_sr_w = wts\n",
    "        max_sr = sr\n",
    "\n",
    "    if port_ret >= max(port_returns[0:-1]):\n",
    "        max_ret_ret = port_ret\n",
    "        max_ret_risk = port_sd\n",
    "        max_ret_w = wts\n",
    "\n",
    "    if port_sd <= min(port_risk[0:-1]):\n",
    "        min_var_ret = port_ret\n",
    "        min_var_risk = port_sd\n",
    "        min_var_w = wts"
   ]
  },
  {
   "cell_type": "code",
   "execution_count": null,
   "metadata": {},
   "outputs": [],
   "source": [
    "p = figure(plot_height=700, plot_width=770, title=\"Efficient frontier. Simulations: \" + str(num_port),\n",
    "           tools='box_zoom,wheel_zoom,reset', toolbar_location='above')\n",
    "p.add_tools(CrosshairTool(line_alpha=1, line_color='lightgray', line_width=1))\n",
    "p.add_tools(HoverTool(tooltips=None))\n",
    "source = ColumnDataSource(data=dict(risk=port_risk, profit=port_returns))\n",
    "p.circle(x='risk', y='profit', source=source, line_alpha=0, hover_color='navy', alpha=0.4, hover_alpha=1, size=8)\n",
    "p.circle(min_var_risk, min_var_ret, color='lime', legend_label='Portfolio with minimum variance', size=10)\n",
    "p.circle(max_sr_risk, max_sr_ret, color='orangered', legend_label='Portfolio with max Sharpe ratio', size=12)\n",
    "p.circle(max_ret_risk, max_ret_ret, color='olive', legend_label='Portfolio with max return', size=9)\n",
    "p.legend.location = \"bottom_right\"\n",
    "p.xaxis.axis_label = 'Volatility, or risk (standard deviation)'\n",
    "p.yaxis.axis_label = 'Annual return'\n",
    "p.xaxis[0].formatter = NumeralTickFormatter(format=\"0.0%\")\n",
    "p.yaxis[0].formatter = NumeralTickFormatter(format=\"0.0%\")"
   ]
  },
  {
   "cell_type": "code",
   "execution_count": null,
   "metadata": {},
   "outputs": [],
   "source": [
    "#Portfolio composition. Min variance, max SR, max return\n",
    "\"\"\"\n",
    "def plot_portfolio_composition(ticks, weights, plot_name):\n",
    "\n",
    "    x = dict()\n",
    "    for i in range(len(ticks)):\n",
    "        x[ticks[i]] = weights[i]\n",
    "\n",
    "    #color_list = [ \"olive\", \"yellowgreen\", \"lime\", \"chartreuse\", \"springgreen\", \"lightgreen\", \"darkseagreen\",\n",
    "                   #\"seagreen\", \"green\", \"darkgreen\"]\n",
    "\n",
    "    plot_data = pd.Series(x).reset_index(name='value').rename(columns={'index': 'stock'})\n",
    "    plot_data['angle'] = plot_data['value'] / plot_data['value'].sum() * 2 * math.pi\n",
    "    #plot_data['color'] = color_list[0:len(weights)]\n",
    "    p = figure(plot_height=250, plot_width=250, title=plot_name, toolbar_location=None,\n",
    "                      tools=\"hover\", tooltips=\"@stock: @value{%0.1f}\", x_range=(-0.5, 1.0))\n",
    "    p.wedge(x=0, y=1, radius=0.4, start_angle=cumsum('angle', include_zero=True), end_angle=cumsum('angle'),\n",
    "                   line_color=\"white\", color='color', source=plot_data)\n",
    "    p.axis.axis_label = None\n",
    "    p.axis.visible = False\n",
    "    p.grid.grid_line_color = None\n",
    "    p.outline_line_color = None\n",
    "\n",
    "    return p\n",
    "\n",
    "p_minvar = plot_portfolio_composition(stock_list.stock_name, min_var_w, \"Portfolio with minimum variance\")\n",
    "p_maxsr = plot_portfolio_composition(stock_list.stock_name, max_sr_w, \"Portfolio with max Sharpe ratio\")\n",
    "p_maxret = plot_portfolio_composition(stock_list.stock_name, max_ret_w, \"Portfolio with max return\")\n",
    "\"\"\""
   ]
  },
  {
   "cell_type": "code",
   "execution_count": null,
   "metadata": {},
   "outputs": [],
   "source": [
    "#layout = row([p_minvar, p_maxsr, p_maxret])\n",
    "#show(layout)"
   ]
  },
  {
   "cell_type": "code",
   "execution_count": null,
   "metadata": {},
   "outputs": [],
   "source": [
    "show(p)"
   ]
  },
  {
   "cell_type": "code",
   "execution_count": null,
   "metadata": {},
   "outputs": [],
   "source": [
    "wts = max_sr_w"
   ]
  },
  {
   "cell_type": "code",
   "execution_count": null,
   "metadata": {},
   "outputs": [],
   "source": [
    "output_data = {'stocks': stock_list.stock_name, 'Weights': wts}"
   ]
  },
  {
   "cell_type": "code",
   "execution_count": null,
   "metadata": {},
   "outputs": [],
   "source": [
    "print(pd.DataFrame(output_data))"
   ]
  },
  {
   "cell_type": "code",
   "execution_count": null,
   "metadata": {},
   "outputs": [],
   "source": [
    "sum(wts)"
   ]
  },
  {
   "cell_type": "code",
   "execution_count": null,
   "metadata": {},
   "outputs": [],
   "source": [
    "ret = np.sum(returns.mean() * wts)\n",
    "sd = np.sqrt(np.dot(wts.T, np.dot(cov_mat, wts)))\n",
    "ret, sd"
   ]
  },
  {
   "cell_type": "code",
   "execution_count": null,
   "metadata": {},
   "outputs": [],
   "source": [
    "for col in returns.columns:\n",
    "    \n",
    "    sns.distplot(returns[col])\n",
    "    plt.show()"
   ]
  },
  {
   "cell_type": "code",
   "execution_count": null,
   "metadata": {},
   "outputs": [],
   "source": [
    "for col in returns.columns:\n",
    "    \n",
    "    print(\"For stock %s, returns is %0.4f\" %(col, returns[col].mean()))"
   ]
  },
  {
   "cell_type": "code",
   "execution_count": null,
   "metadata": {},
   "outputs": [],
   "source": [
    "amt = 300000\n",
    "qty = (amt * wts)/ last_price\n",
    "qtyf = [int(i) for i in qty]"
   ]
  },
  {
   "cell_type": "code",
   "execution_count": null,
   "metadata": {},
   "outputs": [],
   "source": [
    "output_data = {'stocks': stock_list.stock_name, 'Share': qtyf}\n",
    "print(pd.DataFrame(output_data))"
   ]
  },
  {
   "cell_type": "code",
   "execution_count": null,
   "metadata": {},
   "outputs": [],
   "source": [
    "conf_level1 = 0.0001\n",
    "\n",
    "mean_investment = (1+ret) * amt\n",
    "stdev_investment = amt * sd\n",
    "\n",
    "cutoff1 = norm.ppf(conf_level1, mean_investment, stdev_investment)\n",
    "\n",
    "var_1yr = amt - cutoff1\n",
    "var_1yr"
   ]
  },
  {
   "cell_type": "code",
   "execution_count": null,
   "metadata": {},
   "outputs": [],
   "source": [
    "for i in range (2, 5):\n",
    "    print(np.round(var_1yr * np.sqrt(i)))"
   ]
  },
  {
   "cell_type": "code",
   "execution_count": null,
   "metadata": {},
   "outputs": [],
   "source": []
  }
 ],
 "metadata": {
  "kernelspec": {
   "display_name": "Python 3",
   "language": "python",
   "name": "python3"
  },
  "language_info": {
   "codemirror_mode": {
    "name": "ipython",
    "version": 3
   },
   "file_extension": ".py",
   "mimetype": "text/x-python",
   "name": "python",
   "nbconvert_exporter": "python",
   "pygments_lexer": "ipython3",
   "version": "3.8.3"
  }
 },
 "nbformat": 4,
 "nbformat_minor": 4
}
